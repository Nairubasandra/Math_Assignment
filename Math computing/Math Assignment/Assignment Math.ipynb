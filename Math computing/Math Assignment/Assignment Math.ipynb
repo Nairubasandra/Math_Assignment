{
 "cells": [
  {
   "cell_type": "markdown",
   "id": "5ebc5dca-3b76-4b87-b4bf-abc430807873",
   "metadata": {},
   "source": [
    "# Number 1"
   ]
  },
  {
   "cell_type": "code",
   "execution_count": 1,
   "id": "28f29ac2-7a25-4f80-8ba4-c33258e78b7f",
   "metadata": {},
   "outputs": [],
   "source": [
    "import numpy as np"
   ]
  },
  {
   "cell_type": "code",
   "execution_count": 2,
   "id": "b059148d-c044-43d2-a7c4-4f3261121a35",
   "metadata": {},
   "outputs": [
    {
     "name": "stdout",
     "output_type": "stream",
     "text": [
      "[[ 2  2  3]\n",
      " [-2  7  4]\n",
      " [-3 -3 -4]\n",
      " [-8  2  3]]\n"
     ]
    }
   ],
   "source": [
    "matrix_A=np.array([[2,2,3],[-2,7,4],[-3,-3,-4],[-8,2,3]])\n",
    "print(matrix_A)"
   ]
  },
  {
   "cell_type": "markdown",
   "id": "1cd7d1ff-4f98-4386-9745-83fcd459d27a",
   "metadata": {},
   "source": [
    "# i)"
   ]
  },
  {
   "cell_type": "code",
   "execution_count": 3,
   "id": "1617a89c-8fb6-4415-ba30-5530a969afc2",
   "metadata": {},
   "outputs": [
    {
     "name": "stdout",
     "output_type": "stream",
     "text": [
      "[[ 2  2  3  1]\n",
      " [-2  7  4  5]\n",
      " [-3 -3 -4  4]\n",
      " [-8  2  3  8]]\n"
     ]
    }
   ],
   "source": [
    "new_column=([[1],[5],[4],[8]])\n",
    "new_matrix=np.hstack((matrix_A,new_column))\n",
    "print(new_matrix)"
   ]
  },
  {
   "cell_type": "code",
   "execution_count": 4,
   "id": "08e5a469-fed4-4461-815b-df45c02d6765",
   "metadata": {},
   "outputs": [
    {
     "name": "stdout",
     "output_type": "stream",
     "text": [
      "-667.0000000000003\n"
     ]
    }
   ],
   "source": [
    "determinantA=np.linalg.det(new_matrix)\n",
    "print(determinantA)"
   ]
  },
  {
   "cell_type": "markdown",
   "id": "e66cbc04-4d1a-4d4a-bb02-43df2d352472",
   "metadata": {},
   "source": [
    "# ii)"
   ]
  },
  {
   "cell_type": "code",
   "execution_count": 5,
   "id": "5b30121a-58b6-4b43-9894-b1eb761839ce",
   "metadata": {},
   "outputs": [
    {
     "name": "stdout",
     "output_type": "stream",
     "text": [
      "[[ 2  2  3]\n",
      " [-2  7  4]\n",
      " [-3 -3 -4]]\n"
     ]
    }
   ],
   "source": [
    "reduced_matrix=np.delete(matrix_A,3,axis=0)\n",
    "print(reduced_matrix)"
   ]
  },
  {
   "cell_type": "code",
   "execution_count": 6,
   "id": "3cb93bbc-66ba-4d06-9e32-942fadf10386",
   "metadata": {},
   "outputs": [
    {
     "name": "stdout",
     "output_type": "stream",
     "text": [
      "9.000000000000005\n"
     ]
    }
   ],
   "source": [
    "determinantA=np.linalg.det(reduced_matrix)\n",
    "print(determinantA)"
   ]
  },
  {
   "cell_type": "markdown",
   "id": "605e14b6-ebb1-4756-91a5-7a712b279277",
   "metadata": {},
   "source": [
    "# iii)"
   ]
  },
  {
   "cell_type": "code",
   "execution_count": 8,
   "id": "226046bd-725b-4910-a332-d48a42cd53e7",
   "metadata": {},
   "outputs": [
    {
     "name": "stdout",
     "output_type": "stream",
     "text": [
      "[[ 2 -2 -3 -8]\n",
      " [ 2  7 -3  2]\n",
      " [ 3  4 -4  3]]\n"
     ]
    }
   ],
   "source": [
    "AT=np.transpose(matrix_A)\n",
    "print(AT)"
   ]
  },
  {
   "cell_type": "code",
   "execution_count": 9,
   "id": "059e7462-febc-4fe4-ae8c-a906f13e1a4e",
   "metadata": {},
   "outputs": [
    {
     "name": "stdout",
     "output_type": "stream",
     "text": [
      "[[ 17  22 -24  -3]\n",
      " [ 22  69 -31  42]\n",
      " [-24 -31  34   6]\n",
      " [ -3  42   6  77]]\n"
     ]
    }
   ],
   "source": [
    "AAT=np.dot(matrix_A,AT)\n",
    "print(AAT)"
   ]
  },
  {
   "cell_type": "code",
   "execution_count": 13,
   "id": "ede066f0-998e-410d-8209-acb9811cb96e",
   "metadata": {},
   "outputs": [
    {
     "name": "stdout",
     "output_type": "stream",
     "text": [
      "-5.1884970888279274e-11\n"
     ]
    }
   ],
   "source": [
    "determinantA=np.linalg.det(AAT)\n",
    "print(determinantA)"
   ]
  },
  {
   "cell_type": "code",
   "execution_count": null,
   "id": "8277e9b9-cbfa-422c-9283-2e338762c996",
   "metadata": {},
   "outputs": [],
   "source": [
    "#Therefore AAT is invertable"
   ]
  },
  {
   "cell_type": "markdown",
   "id": "78b43dae-cfbe-4aae-8c81-2aeb76c51b6e",
   "metadata": {},
   "source": [
    "# iv)"
   ]
  },
  {
   "cell_type": "code",
   "execution_count": 14,
   "id": "125d0637-f23c-45b0-9bd6-07aedc224bdb",
   "metadata": {},
   "outputs": [
    {
     "name": "stdout",
     "output_type": "stream",
     "text": [
      "[[ 81 -17 -14]\n",
      " [-17  66  52]\n",
      " [-14  52  50]]\n"
     ]
    }
   ],
   "source": [
    "ATA=np.dot(AT,matrix_A)\n",
    "print(ATA)"
   ]
  },
  {
   "cell_type": "code",
   "execution_count": 15,
   "id": "28f57475-b1b4-46d0-b55a-e2e34756b724",
   "metadata": {},
   "outputs": [
    {
     "name": "stdout",
     "output_type": "stream",
     "text": [
      "45642.00000000001\n"
     ]
    }
   ],
   "source": [
    "determinantA=np.linalg.det(ATA)\n",
    "print(determinantA)"
   ]
  },
  {
   "cell_type": "code",
   "execution_count": null,
   "id": "44e00a41-9a5e-4c29-8144-f32f0c9a0424",
   "metadata": {},
   "outputs": [],
   "source": [
    "#The ATA matrix is invertable"
   ]
  },
  {
   "cell_type": "markdown",
   "id": "fe617859-f8ed-4e28-8a01-e9d2785f143a",
   "metadata": {},
   "source": [
    "## Number 2"
   ]
  },
  {
   "cell_type": "markdown",
   "id": "939bde4b-1615-4363-95fd-3c6891b7a982",
   "metadata": {},
   "source": [
    "# i)"
   ]
  },
  {
   "cell_type": "code",
   "execution_count": 20,
   "id": "460c580b-7a34-40af-b868-01069a835a21",
   "metadata": {},
   "outputs": [
    {
     "data": {
      "text/plain": [
       "(3, 2)"
      ]
     },
     "execution_count": 20,
     "metadata": {},
     "output_type": "execute_result"
    }
   ],
   "source": [
    "x=np.array([[25,2],[5,26],[3,7]])\n",
    "x.shape"
   ]
  },
  {
   "cell_type": "markdown",
   "id": "96fd3615-1a73-4266-a86f-97e5b21110d1",
   "metadata": {},
   "source": [
    "# ii)"
   ]
  },
  {
   "cell_type": "code",
   "execution_count": 18,
   "id": "cafdccb9-c075-441b-a54b-967f0d64414a",
   "metadata": {},
   "outputs": [
    {
     "name": "stdout",
     "output_type": "stream",
     "text": [
      "[[25  5  3]\n",
      " [ 2 26  7]]\n"
     ]
    }
   ],
   "source": [
    "XT=np.transpose(x)\n",
    "print(XT)"
   ]
  },
  {
   "cell_type": "markdown",
   "id": "73cdef6c-9671-4f35-bd4c-1bda4aea4646",
   "metadata": {},
   "source": [
    "# iii)"
   ]
  },
  {
   "cell_type": "code",
   "execution_count": 13,
   "id": "92d466a9-b384-4c40-a590-07f17f68b705",
   "metadata": {},
   "outputs": [
    {
     "name": "stdout",
     "output_type": "stream",
     "text": [
      "[[25  2]\n",
      " [ 5 26]\n",
      " [ 3  7]]\n",
      "[[75  6]\n",
      " [15 78]\n",
      " [ 9 21]]\n"
     ]
    }
   ],
   "source": [
    "x = np.array([[25,2],[5,26],[3,7]])\n",
    "print(x)\n",
    "x_scalar = np.dot(3,x)\n",
    "print(x_scalar)"
   ]
  },
  {
   "cell_type": "markdown",
   "id": "34ef57d8-a468-4d24-b484-7418f4ef6cb3",
   "metadata": {},
   "source": [
    "# iv)"
   ]
  },
  {
   "cell_type": "code",
   "execution_count": 23,
   "id": "df2c0a2f-ffea-4aa7-9413-cfbd0c21492b",
   "metadata": {},
   "outputs": [
    {
     "name": "stdout",
     "output_type": "stream",
     "text": [
      "[[ 75   8]\n",
      " [ 25 156]\n",
      " [ 21  56]]\n"
     ]
    }
   ],
   "source": [
    "x =np.array([[25,2],[5,26],[3,7]])\n",
    "A=np.array([[3,4],[5,6],[7,8]])\n",
    "multiplication=A*x\n",
    "print(multiplication)"
   ]
  },
  {
   "cell_type": "markdown",
   "id": "c4c39b44-2e14-4875-bfdf-51d3038c9d24",
   "metadata": {},
   "source": [
    "# v)"
   ]
  },
  {
   "cell_type": "markdown",
   "id": "f020deea-7b45-4163-805d-c3563cc464a7",
   "metadata": {},
   "source": [
    "## number 3"
   ]
  },
  {
   "cell_type": "markdown",
   "id": "c75d1bec-578e-42b7-9839-df39520066c5",
   "metadata": {},
   "source": [
    "# i)"
   ]
  },
  {
   "cell_type": "code",
   "execution_count": 7,
   "id": "6e6a7b06-2b7c-4450-aa55-6bfe4933b94c",
   "metadata": {},
   "outputs": [],
   "source": [
    "import numpy as np"
   ]
  },
  {
   "cell_type": "code",
   "execution_count": 27,
   "id": "b899c94f-1e58-4850-99a7-e0300229ed68",
   "metadata": {},
   "outputs": [
    {
     "name": "stdout",
     "output_type": "stream",
     "text": [
      "[25  2  5]\n"
     ]
    }
   ],
   "source": [
    "x=np.array([25,2,5])\n",
    "print(x)"
   ]
  },
  {
   "cell_type": "markdown",
   "id": "d6bbb631-5cc9-446e-833b-42be4547f1bc",
   "metadata": {},
   "source": [
    "# ii)"
   ]
  },
  {
   "cell_type": "code",
   "execution_count": 29,
   "id": "bd0ea77f-b3a7-471b-8caf-45dee7fb20f6",
   "metadata": {},
   "outputs": [
    {
     "data": {
      "text/plain": [
       "(3,)"
      ]
     },
     "execution_count": 29,
     "metadata": {},
     "output_type": "execute_result"
    }
   ],
   "source": [
    "x=np.array([25,2,5])\n",
    "x.shape"
   ]
  },
  {
   "cell_type": "markdown",
   "id": "3202bd32-d2c1-4285-ab76-a1b0c429f754",
   "metadata": {},
   "source": [
    "# iii)"
   ]
  },
  {
   "cell_type": "code",
   "execution_count": 30,
   "id": "de2bd37b-d99f-4ff4-b40d-ca080378871a",
   "metadata": {},
   "outputs": [
    {
     "name": "stdout",
     "output_type": "stream",
     "text": [
      "[25  2  5]\n"
     ]
    }
   ],
   "source": [
    "XT=np.transpose(x)\n",
    "print(XT)"
   ]
  },
  {
   "cell_type": "markdown",
   "id": "1377c9b9-d631-4859-9b45-34a0fa070654",
   "metadata": {},
   "source": [
    "# iv) \n",
    "compute its Norm"
   ]
  },
  {
   "cell_type": "code",
   "execution_count": 31,
   "id": "571dbc6c-e5a9-4257-8843-fb1cac20b614",
   "metadata": {},
   "outputs": [
    {
     "name": "stdout",
     "output_type": "stream",
     "text": [
      "25.573423705088842\n"
     ]
    }
   ],
   "source": [
    "magnitude=np.linalg.norm(x)\n",
    "print(magnitude)"
   ]
  },
  {
   "cell_type": "code",
   "execution_count": null,
   "id": "ebb5c988-a8a5-4b1f-86ae-73cea1ebcef0",
   "metadata": {},
   "outputs": [],
   "source": []
  }
 ],
 "metadata": {
  "kernelspec": {
   "display_name": "Python 3 (ipykernel)",
   "language": "python",
   "name": "python3"
  },
  "language_info": {
   "codemirror_mode": {
    "name": "ipython",
    "version": 3
   },
   "file_extension": ".py",
   "mimetype": "text/x-python",
   "name": "python",
   "nbconvert_exporter": "python",
   "pygments_lexer": "ipython3",
   "version": "3.12.4"
  }
 },
 "nbformat": 4,
 "nbformat_minor": 5
}
